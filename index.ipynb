{
 "cells": [
  {
   "cell_type": "markdown",
   "metadata": {},
   "source": [
    "# Data Visualization - Introduction\n",
    "\n",
    "## Introduction\n",
    "\n",
    "In this lesson, we'll get an overview of everything we'll learn in this section about data visualization. \n",
    "\n",
    "## Objectives\n",
    "\n",
    "You will be able to:\n",
    "\n",
    "* Understand what you're going to learn in this section\n",
    "* Understand why this will help you in your career as a data scientist.\n",
    "\n",
    "## Data Visualization\n",
    "\n",
    "\n",
    "In this section, we're going to focus on **_Data Visualization_**. We'll start by gaining some practice with more advanced visualizations using matplotlib, as well as a second visualization library, **_Seaborn_**. We'll also spend some time going over the best practices for making great visualizations, and examine some of the most common mistakes!\n",
    "\n"
   ]
  }
 ],
 "metadata": {
  "kernelspec": {
   "display_name": "Python 3",
   "language": "python",
   "name": "python3"
  },
  "language_info": {
   "codemirror_mode": {
    "name": "ipython",
    "version": 3
   },
   "file_extension": ".py",
   "mimetype": "text/x-python",
   "name": "python",
   "nbconvert_exporter": "python",
   "pygments_lexer": "ipython3",
   "version": "3.6.7"
  }
 },
 "nbformat": 4,
 "nbformat_minor": 2
}
